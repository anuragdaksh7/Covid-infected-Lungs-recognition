{
 "cells": [
  {
   "cell_type": "code",
   "execution_count": 1,
   "id": "b36b66d9",
   "metadata": {},
   "outputs": [],
   "source": [
    "import tensorflow as tf\n",
    "import numpy as np\n",
    "import math, os, cv2, random, time, keras\n",
    "import matplotlib.pyplot as plt"
   ]
  },
  {
   "cell_type": "code",
   "execution_count": 2,
   "id": "75c86cf3",
   "metadata": {},
   "outputs": [],
   "source": [
    "path = \"C:\\\\Users\\\\anura\\\\Downloads\\\\archive\\\\Covid_X-Ray_Dataset\""
   ]
  },
  {
   "cell_type": "code",
   "execution_count": 3,
   "id": "7b5b8293",
   "metadata": {},
   "outputs": [],
   "source": [
    "z = 225/2"
   ]
  },
  {
   "cell_type": "code",
   "execution_count": 4,
   "id": "d107c49b",
   "metadata": {},
   "outputs": [],
   "source": [
    "ph_ = \"Normal\"\n",
    "plb_ = \"Covid\"\n",
    "ph = os.listdir(path+\"\\\\Normal\")\n",
    "plb = os.listdir(path+\"\\\\Covid\")"
   ]
  },
  {
   "cell_type": "code",
   "execution_count": null,
   "id": "40d2f04a",
   "metadata": {},
   "outputs": [],
   "source": []
  },
  {
   "cell_type": "code",
   "execution_count": null,
   "id": "be8b1d4e",
   "metadata": {},
   "outputs": [],
   "source": []
  },
  {
   "cell_type": "code",
   "execution_count": 5,
   "id": "79790e6e",
   "metadata": {},
   "outputs": [],
   "source": [
    "inputPh = []\n",
    "outPh = []\n",
    "for i in ph:\n",
    "    #print(path+\"\\\\\"+ph_+\"\\\\\"+i)\n",
    "    img = cv2.imread(path+\"\\\\\"+ph_+\"\\\\\"+i)\n",
    "    img = cv2.resize(img, (400,400))\n",
    "    inputPh.append(img)\n",
    "    outPh.append(np.array([1,0]))\n",
    "inputPh = np.array(inputPh)/z-1\n",
    "outPh = np.array(outPh)"
   ]
  },
  {
   "cell_type": "code",
   "execution_count": null,
   "id": "0ec9047d",
   "metadata": {},
   "outputs": [],
   "source": []
  },
  {
   "cell_type": "code",
   "execution_count": 6,
   "id": "1379db5c",
   "metadata": {},
   "outputs": [],
   "source": [
    "inputPlb = []\n",
    "outPlb = []\n",
    "for i in plb:\n",
    "    img = cv2.imread(path+\"\\\\\"+plb_+\"\\\\\"+i)\n",
    "    img = cv2.resize(img, (400,400))\n",
    "    inputPlb.append(img)\n",
    "    outPlb.append(np.array([0,1]))\n",
    "inputPlb = np.array(inputPlb)/z-1\n",
    "outPlb = np.array(outPlb)"
   ]
  },
  {
   "cell_type": "code",
   "execution_count": 7,
   "id": "8977e71e",
   "metadata": {},
   "outputs": [],
   "source": [
    "inputs = np.concatenate((inputPh,inputPlb))\n",
    "outputs = np.concatenate((outPh,outPlb))\n",
    "del(inputPh)\n",
    "del(inputPlb)"
   ]
  },
  {
   "cell_type": "code",
   "execution_count": 8,
   "id": "4fdd62df",
   "metadata": {},
   "outputs": [
    {
     "data": {
      "text/plain": [
       "(800, 400, 400, 3)"
      ]
     },
     "execution_count": 8,
     "metadata": {},
     "output_type": "execute_result"
    }
   ],
   "source": [
    "inputs.shape"
   ]
  },
  {
   "cell_type": "code",
   "execution_count": 9,
   "id": "50bbc6aa",
   "metadata": {},
   "outputs": [],
   "source": [
    "model = tf.keras.models.Sequential([\n",
    "    tf.keras.layers.Conv2D(32, (3, 3), activation='relu', input_shape=(400, 400, 3)),\n",
    "    tf.keras.layers.MaxPooling2D((2, 2)),\n",
    "    tf.keras.layers.Conv2D(64, (3, 3), activation='relu'),\n",
    "    tf.keras.layers.MaxPooling2D((2, 2)),\n",
    "    tf.keras.layers.Conv2D(128, (3, 3), activation='relu'),\n",
    "    tf.keras.layers.MaxPooling2D((2, 2)),\n",
    "    tf.keras.layers.Flatten(),\n",
    "    tf.keras.layers.Dense(64, activation='relu'),\n",
    "    tf.keras.layers.Dense(2, activation='softmax')\n",
    "])"
   ]
  },
  {
   "cell_type": "code",
   "execution_count": 10,
   "id": "84d63a91",
   "metadata": {},
   "outputs": [],
   "source": [
    "model.compile(optimizer='adam', loss='binary_crossentropy', metrics=['accuracy'])"
   ]
  },
  {
   "cell_type": "code",
   "execution_count": 13,
   "id": "81f17852",
   "metadata": {},
   "outputs": [
    {
     "name": "stdout",
     "output_type": "stream",
     "text": [
      "27/27 [==============================] - 99s 4s/step - loss: 0.3347 - accuracy: 0.8475\n"
     ]
    },
    {
     "data": {
      "text/plain": [
       "<keras.callbacks.History at 0x24a511beb30>"
      ]
     },
     "execution_count": 13,
     "metadata": {},
     "output_type": "execute_result"
    }
   ],
   "source": [
    "model.fit(inputs,outputs,epochs = 1, batch_size = 30)"
   ]
  },
  {
   "cell_type": "code",
   "execution_count": 14,
   "id": "baa26e21",
   "metadata": {},
   "outputs": [
    {
     "name": "stdout",
     "output_type": "stream",
     "text": [
      "Model: \"sequential\"\n",
      "_________________________________________________________________\n",
      " Layer (type)                Output Shape              Param #   \n",
      "=================================================================\n",
      " conv2d (Conv2D)             (None, 398, 398, 32)      896       \n",
      "                                                                 \n",
      " max_pooling2d (MaxPooling2D  (None, 199, 199, 32)     0         \n",
      " )                                                               \n",
      "                                                                 \n",
      " conv2d_1 (Conv2D)           (None, 197, 197, 64)      18496     \n",
      "                                                                 \n",
      " max_pooling2d_1 (MaxPooling  (None, 98, 98, 64)       0         \n",
      " 2D)                                                             \n",
      "                                                                 \n",
      " conv2d_2 (Conv2D)           (None, 96, 96, 128)       73856     \n",
      "                                                                 \n",
      " max_pooling2d_2 (MaxPooling  (None, 48, 48, 128)      0         \n",
      " 2D)                                                             \n",
      "                                                                 \n",
      " flatten (Flatten)           (None, 294912)            0         \n",
      "                                                                 \n",
      " dense (Dense)               (None, 64)                18874432  \n",
      "                                                                 \n",
      " dense_1 (Dense)             (None, 2)                 130       \n",
      "                                                                 \n",
      "=================================================================\n",
      "Total params: 18,967,810\n",
      "Trainable params: 18,967,810\n",
      "Non-trainable params: 0\n",
      "_________________________________________________________________\n"
     ]
    }
   ],
   "source": [
    "model.summary()"
   ]
  },
  {
   "cell_type": "code",
   "execution_count": null,
   "id": "554fbe70",
   "metadata": {},
   "outputs": [],
   "source": []
  }
 ],
 "metadata": {
  "kernelspec": {
   "display_name": "Python 3 (ipykernel)",
   "language": "python",
   "name": "python3"
  },
  "language_info": {
   "codemirror_mode": {
    "name": "ipython",
    "version": 3
   },
   "file_extension": ".py",
   "mimetype": "text/x-python",
   "name": "python",
   "nbconvert_exporter": "python",
   "pygments_lexer": "ipython3",
   "version": "3.10.8"
  }
 },
 "nbformat": 4,
 "nbformat_minor": 5
}
